{
 "cells": [
  {
   "cell_type": "markdown",
   "metadata": {},
   "source": [
    "### Python While Loops"
   ]
  },
  {
   "cell_type": "code",
   "execution_count": 3,
   "metadata": {},
   "outputs": [
    {
     "name": "stdout",
     "output_type": "stream",
     "text": [
      "1\n",
      "2\n",
      "3\n",
      "4\n",
      "5\n",
      "Done\n",
      "You entered a value\n"
     ]
    }
   ],
   "source": [
    "## Python While Loops\n",
    "# This will print \"Hello World\" forever\n",
    "# while true:\n",
    "#     print(\"Hello World\")\n",
    "# There is no stopping condition, so this loop will run forever.\n",
    "\n",
    "# This is a while loop with a stopping condition\n",
    "i = 1\n",
    "while i < 6:\n",
    "    print(i)\n",
    "    i += 1 # i = i + 1\n",
    "print(\"Done\")\n",
    "# The condition is that i should be less than 6.\n",
    "\n",
    "runner = True\n",
    "while runner:\n",
    "    input(\"Enter a value: \")\n",
    "    print(\"You entered a value\")\n",
    "    runner = False    \n"
   ]
  },
  {
   "cell_type": "markdown",
   "metadata": {},
   "source": [
    "### Python For Loops"
   ]
  },
  {
   "cell_type": "code",
   "execution_count": 7,
   "metadata": {},
   "outputs": [
    {
     "name": "stdout",
     "output_type": "stream",
     "text": [
      "0\n",
      "1\n",
      "2\n",
      "3\n",
      "4\n",
      "5\n",
      "Done\n",
      "Start of range is inclusive\n",
      "1\n",
      "2\n",
      "3\n",
      "4\n",
      "5\n",
      "Done\n"
     ]
    }
   ],
   "source": [
    "## Python For Loops\n",
    "\n",
    "for i in range(6):\n",
    "    # 0 1 2 3 4 5\n",
    "    print(i)\n",
    "print(\"Done\")\n",
    "# index 6\n",
    "# values 0 1 2 3 4 5\n",
    "\n",
    "\n",
    "# VALUES 0 1 2 3 4 5\n",
    "# BOX    1 2 3 4 5 6\n",
    "\n",
    "# start of range is inclusive\n",
    "print(\"Start of range is inclusive\")\n",
    "for i in range(1, 6):\n",
    "    # 1 2 3 4 5\n",
    "    print(i)\n",
    "print(\"Done\")\n",
    "# index 5\n",
    "# values 1 2 3 4 5\n"
   ]
  },
  {
   "cell_type": "code",
   "execution_count": 11,
   "metadata": {},
   "outputs": [
    {
     "name": "stdout",
     "output_type": "stream",
     "text": [
      "Exit the loop when i is 3:\n",
      "0\n",
      "1\n",
      "2\n",
      "Done\n",
      "Continue to the next iteration if i is 3:\n",
      "0\n",
      "EGGS 0\n",
      "1\n",
      "EGGS 1\n",
      "2\n",
      "EGGS 2\n",
      "4\n",
      "EGGS 4\n",
      "5\n",
      "EGGS 5\n",
      "Done\n"
     ]
    }
   ],
   "source": [
    "## The break Statement\n",
    "# With the break statement we can stop the loop before it has looped through all the items:\n",
    "# Exit the loop when i is 3:\n",
    "print(\"Exit the loop when i is 3:\")\n",
    "for i in range(6):\n",
    "    if i == 3:\n",
    "        break\n",
    "    print(i)\n",
    "print(\"Done\")\n",
    "# index 3\n",
    "# values 0 1 2\n",
    "\n",
    "## The continue Statement\n",
    "# With the continue statement we can stop the current iteration of the loop, and continue with the next:\n",
    "# Continue to the next iteration if i is 3:\n",
    "print(\"Continue to the next iteration if i is 3:\")\n",
    "for i in range(6):\n",
    "    if i == 3:\n",
    "        continue\n",
    "    print(i)\n",
    "    print(\"EGGS \" + str(i))\n",
    "print(\"Done\")\n",
    "\n"
   ]
  },
  {
   "cell_type": "code",
   "execution_count": 12,
   "metadata": {},
   "outputs": [
    {
     "name": "stdout",
     "output_type": "stream",
     "text": [
      "Assign and print the variable x to the value 3:\n",
      "3\n",
      "Assign the variable x to the value 3, and print it:\n",
      "3\n"
     ]
    }
   ],
   "source": [
    "## The Walrus Operator\n",
    "# The Walrus Operator is a new operator introduced in Python 3.8.\n",
    "# It allows you to assign values to variables within an expression, including variables that do not exist yet.\n",
    "# Example with Walrus Operator\n",
    "# Assign and print the variable x to the value 3:\n",
    "print(\"Assign and print the variable x to the value 3:\")\n",
    "x = 3\n",
    "print(x)\n",
    "# Example with Walrus Operator\n",
    "# Assign the variable x to the value 3, and print it:\n",
    "print(\"Assign the variable x to the value 3, and print it:\")\n",
    "print(x := 3)\n",
    "\n"
   ]
  },
  {
   "cell_type": "code",
   "execution_count": 13,
   "metadata": {},
   "outputs": [
    {
     "name": "stdout",
     "output_type": "stream",
     "text": [
      "Enter -1 to quit.\n",
      "=============\n",
      "You entered 2.\n",
      "You entered 3.\n",
      "You entered 2.\n",
      "You entered 1.\n",
      "You entered 2.\n",
      "You entered 3.\n",
      "You entered 4.\n",
      "You entered 5.\n",
      "You entered 311.\n",
      "Bye!\n"
     ]
    }
   ],
   "source": [
    "## From Book without Walrus Operator\n",
    "print(\"Enter -1 to quit.\")\n",
    "print(\"=============\")\n",
    "while True:\n",
    "    score = input(\"Enter score: \")\n",
    "    if score == \"-1\":\n",
    "        break\n",
    "    print(f\"You entered {score}.\") # we did not learn about f-strings yet\n",
    "    print(\"You entered \" + score + \".\") # this is the same as the line above\n",
    "print(\"Bye!\")\n",
    "## From Book with Walrus Operator\n",
    "print(\"Enter -1 to quit.\")\n",
    "print(\"=============\")\n",
    "while (score := input(\"Enter score: \")) != \"-1\":\n",
    "    print(f\"You entered {score}.\") # we did not learn about f-strings yet\n",
    "    print(\"You entered \" + score + \".\") # this is the same as the line above\n",
    "print(\"Bye!\")\n"
   ]
  }
 ],
 "metadata": {
  "kernelspec": {
   "display_name": "Python 3",
   "language": "python",
   "name": "python3"
  },
  "language_info": {
   "codemirror_mode": {
    "name": "ipython",
    "version": 3
   },
   "file_extension": ".py",
   "mimetype": "text/x-python",
   "name": "python",
   "nbconvert_exporter": "python",
   "pygments_lexer": "ipython3",
   "version": "3.11.5"
  },
  "orig_nbformat": 4
 },
 "nbformat": 4,
 "nbformat_minor": 2
}
