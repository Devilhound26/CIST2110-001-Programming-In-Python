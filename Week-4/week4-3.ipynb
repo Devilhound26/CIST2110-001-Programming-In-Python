{
 "cells": [
  {
   "cell_type": "markdown",
   "metadata": {},
   "source": [
    "### Python Functions "
   ]
  },
  {
   "cell_type": "code",
   "execution_count": 32,
   "metadata": {},
   "outputs": [
    {
     "name": "stdout",
     "output_type": "stream",
     "text": [
      "hello John\n",
      "hello John\n",
      "hello Greg\n",
      "hello  1\n",
      "None\n",
      "hello  Greg\n",
      "False\n",
      "None\n"
     ]
    }
   ],
   "source": [
    "## Python Functions\n",
    "\n",
    "### 1. Function Definition\n",
    "# A function is a block of organized, reusable code that is used to perform a single, related action.\n",
    "# Functions provide better modularity for your application and resuable code.\n",
    "# You can pass data, known as parameters, into a function.\n",
    "# A function can return data as a result.\n",
    "# A function is defined using the def keyword.\n",
    "# A function is called using the function name followed by parentheses ().\n",
    "\n",
    "# Syntax:\n",
    "# def function_name(parameters):\n",
    "#     \"\"\"docstring\"\"\"\n",
    "#     statement(s)\n",
    "\n",
    "# Example:\n",
    "def print_hello_world():\n",
    "    \"\"\"This prints hello world\"\"\"\n",
    "    print(\"hello world\")\n",
    "\n",
    "def print_hello_world_with_return():\n",
    "    \"\"\"This prints hello world using a return statement\"\"\"\n",
    "    return \"hello world\"\n",
    "\n",
    "# in order to use the function, we need to call it\n",
    "# print_hello_world()\n",
    "# print(print_hello_world_with_return())\n",
    "\n",
    "# functions can take parameters\n",
    "# a parameter is a variable that an argument is stored in when a function is called\n",
    "# an argument is the value that is passed to the function when it is called\n",
    "def print_hello_name(name): # the parameter is name and the argument is \"John\"\n",
    "    \"\"\"This prints hello name\"\"\"\n",
    "    print(\"hello \" + name)\n",
    "\n",
    "print_hello_name(\"John\")\n",
    "\n",
    "# I can also pass a variable as an argument\n",
    "name = \"John\"\n",
    "print_hello_name(name)\n",
    "\n",
    "# we can also pass in a input as an argument\n",
    "# name_input = input(\"Enter your name: \")\n",
    "# print_hello_name(name_input)\n",
    "\n",
    "print_hello_name(input(\"Enter your name: \")) # this is the same as the above\n",
    "\n",
    "# how do we do type checking in parameters?\n",
    "# When we define a function, we can specify the type of the parameter\n",
    "# This is called type hinting\n",
    "\n",
    "def print_hello_name_with_type_hinting(name: str) -> int:\n",
    "    \"\"\"This prints hello name\"\"\"\n",
    "    print(\"hello \", name)\n",
    "    # what is the difference between the + and , operators?\n",
    "    # the + operator is used to concatenate strings\n",
    "    # the , operator is used to separate arguments in a print statement\n",
    "    # the , operator will also add a space between the arguments\n",
    "    \n",
    "\n",
    "\n",
    "\n",
    "name = print_hello_name_with_type_hinting(1) # this will still work because python is a dynamically typed language\n",
    "# q: what is a dynamically typed language?\n",
    "# a: a dynamically typed language is a language where the type of a variable is checked during runtime\n",
    "isinstance(name, int) \n",
    "print(name)\n",
    "# print_hello_name_with_type_hinting(\"Greg\")\n",
    "name_string = print_hello_name_with_type_hinting(\"Greg\")\n",
    "print(isinstance(name_string, int))\n",
    "print(name_string)\n",
    "# this will return a string not an int even though we specified that the function should return an int\n",
    "# type hinting is not enforced in python\n",
    "# if you want to enforce type hinting, you can use a library called mypy (maybe well cover this later)"
   ]
  }
 ],
 "metadata": {
  "kernelspec": {
   "display_name": "Python 3",
   "language": "python",
   "name": "python3"
  },
  "language_info": {
   "codemirror_mode": {
    "name": "ipython",
    "version": 3
   },
   "file_extension": ".py",
   "mimetype": "text/x-python",
   "name": "python",
   "nbconvert_exporter": "python",
   "pygments_lexer": "ipython3",
   "version": "3.11.5"
  },
  "orig_nbformat": 4
 },
 "nbformat": 4,
 "nbformat_minor": 2
}
