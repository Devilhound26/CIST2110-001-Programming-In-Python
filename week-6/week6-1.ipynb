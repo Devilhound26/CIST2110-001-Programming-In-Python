{
 "cells": [
  {
   "cell_type": "markdown",
   "metadata": {},
   "source": [
    "### Python Virtual Environments:"
   ]
  },
  {
   "cell_type": "code",
   "execution_count": 3,
   "metadata": {},
   "outputs": [],
   "source": [
    "## Python Virtual Environments\n",
    "# A virtual environment is a tool that helps to keep dependencies required by different projects separate by creating isolated python virtual environments for them. This is one of the most important tools that most of the Python developers use.\n",
    "\n",
    "# How do we create a python virtual environment?\n",
    "# We can create a virtual environment using the following command:\n",
    "#python3 -m venv venv\n",
    "\n",
    "# Activate the virtual environment\n",
    "# source venv/bin/activate\n",
    "\n",
    "# install the required packages\n",
    "# pip install requests\n",
    "\n",
    "# import requests\n",
    "import requests\n",
    "import pytest\n"
   ]
  }
 ],
 "metadata": {
  "kernelspec": {
   "display_name": "venv",
   "language": "python",
   "name": "python3"
  },
  "language_info": {
   "codemirror_mode": {
    "name": "ipython",
    "version": 3
   },
   "file_extension": ".py",
   "mimetype": "text/x-python",
   "name": "python",
   "nbconvert_exporter": "python",
   "pygments_lexer": "ipython3",
   "version": "3.11.5"
  }
 },
 "nbformat": 4,
 "nbformat_minor": 2
}
