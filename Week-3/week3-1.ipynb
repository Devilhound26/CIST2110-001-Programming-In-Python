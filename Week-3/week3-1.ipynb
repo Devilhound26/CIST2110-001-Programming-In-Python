{
 "cells": [
  {
   "cell_type": "markdown",
   "metadata": {},
   "source": [
    "## Compound assignment operators"
   ]
  },
  {
   "cell_type": "code",
   "execution_count": 4,
   "metadata": {},
   "outputs": [
    {
     "name": "stdout",
     "output_type": "stream",
     "text": [
      "15\n",
      "5\n"
     ]
    }
   ],
   "source": [
    "# python compound assignment operators\n",
    "# +=, -=, *=, /=, %=, **=, //=\n",
    "\n",
    "my_number = 5\n",
    "my_number = my_number + 5\n",
    "\n",
    "# using compound assignment operator\n",
    "my_number += 5\n",
    "\n",
    "# my_number = my_number + 5 is the same as my_number += 5\n",
    "\n",
    "print(my_number)\n",
    "\n",
    "\n",
    "my_subtraction = 15\n",
    "my_subtraction = my_subtraction - 5\n",
    "\n",
    "# using compound assignment operator\n",
    "my_subtraction -= 5\n",
    "\n",
    "print(my_subtraction)"
   ]
  },
  {
   "cell_type": "markdown",
   "metadata": {},
   "source": [
    "## Converting Data Types\n",
    "- Converting to integer\n",
    "- Converting to float\n",
    "- Converting to string\n",
    "- Converting to boolean\n"
   ]
  },
  {
   "cell_type": "code",
   "execution_count": 5,
   "metadata": {},
   "outputs": [
    {
     "name": "stdout",
     "output_type": "stream",
     "text": [
      "My name is John and I am 35 years old.\n",
      "40\n"
     ]
    }
   ],
   "source": [
    "# Converting Data Types\n",
    "# int(), float(), str(), bool()\n",
    "\n",
    "my_name = \"John\"\n",
    "my_age = 35\n",
    "\n",
    "# print using string concatenation\n",
    "# print(\"My name is \" + my_name + \" and I am \" + my_age + \" years old.\")\n",
    "# this creates an error because you cannot concatenate a string and an integer\n",
    "# TypeError: can only concatenate str (not \"int\") to str\n",
    "# first convert my_age to a string\n",
    "print(\"My name is \" + my_name + \" and I am \" + str(my_age) + \" years old.\")\n",
    "\n",
    "my_string_number = \"35\"\n",
    "my_string_number = int(my_string_number)\n",
    "\n",
    "print(my_string_number + 5)"
   ]
  },
  {
   "cell_type": "markdown",
   "metadata": {},
   "source": [
    "### Special String Operations\n",
    "- print function end argument\n",
    "- new line \"\\n\"\n",
    "- tab \"\\t\""
   ]
  },
  {
   "cell_type": "code",
   "execution_count": 6,
   "metadata": {},
   "outputs": [
    {
     "name": "stdout",
     "output_type": "stream",
     "text": [
      "John\n",
      "JohnSnow\n",
      "John Snow \n",
      "hello\n",
      "hello\t\t\t world\n",
      "hello---world\n"
     ]
    }
   ],
   "source": [
    "# Special String Operators\n",
    "\n",
    "name = \"John\"\n",
    "name2 = \"Jack\"\n",
    "name3 = \"Jill\"\n",
    "\n",
    "print(name)\n",
    "\n",
    "\n",
    "print(name, end=\"Snow\\n\")\n",
    "# notice there is no space in between John and Snow\n",
    "# JohnSnow\n",
    "# if I want to add a new line after Snow i can do this:\n",
    "print(name, end=\" Snow \\n\")\n",
    "# \\n is an escape character that creates a new line\n",
    "print(\"hello\")\n",
    "# tab separator\n",
    "print(\"hello\", end=\"\\t\\t\\t world\")\n",
    "print()\n",
    "\n",
    "# print seperator\n",
    "print(\"hello\", \"world\", sep=\"---\")\n",
    "\n",
    "\n"
   ]
  },
  {
   "cell_type": "markdown",
   "metadata": {},
   "source": [
    "## What is a function?\n",
    "- Function definition: Different definitions for different number of arguments\n",
    "- In laymons terms: A function is a block of code that performs a specific task\n",
    "- A function is called by its name and arguments are passed if any and ()"
   ]
  },
  {
   "cell_type": "markdown",
   "metadata": {},
   "source": [
    "## The input function\n",
    "- Get input from the user"
   ]
  },
  {
   "cell_type": "code",
   "execution_count": 7,
   "metadata": {},
   "outputs": [],
   "source": [
    "## Python input function\n",
    "\n",
    "# input() function allows user input\n",
    "\n",
    "user_name = input(\"Enter your name: \")\n",
    "\n"
   ]
  },
  {
   "cell_type": "code",
   "execution_count": null,
   "metadata": {},
   "outputs": [
    {
     "name": "stdout",
     "output_type": "stream",
     "text": [
      "ajskdljaklsjdklasdjaskld\n"
     ]
    }
   ],
   "source": [
    "print(user_name)"
   ]
  },
  {
   "cell_type": "code",
   "execution_count": null,
   "metadata": {},
   "outputs": [
    {
     "name": "stdout",
     "output_type": "stream",
     "text": [
      "700\n",
      "<class 'str'>\n",
      "700\n",
      "<class 'int'>\n"
     ]
    }
   ],
   "source": [
    "## Note: input() function always returns a string\n",
    "# if you want to convert it to an integer or float\n",
    "# you must use the int() or float() function\n",
    "\n",
    "my_number = input(\"Enter a number: \")\n",
    "print(my_number)\n",
    "print(type(my_number))\n",
    "\n",
    "# if you want to convert it to an integer or float\n",
    "my_number = int(my_number)\n",
    "# alternatively i can save the input to a new variable\n",
    "my_number_as_int = int(my_number)\n",
    "\n",
    "print(my_number)\n",
    "print(type(my_number))"
   ]
  },
  {
   "cell_type": "markdown",
   "metadata": {},
   "source": [
    "## Python round() function"
   ]
  },
  {
   "cell_type": "code",
   "execution_count": null,
   "metadata": {},
   "outputs": [
    {
     "name": "stdout",
     "output_type": "stream",
     "text": [
      "5.77\n"
     ]
    }
   ],
   "source": [
    "## python round() function\n",
    "\n",
    "# round() function rounds a number to a specified number of decimal places\n",
    "\n",
    "my_float_number = 5.76543\n",
    "\n",
    "my_float_number_rounded = round(my_float_number, 2)\n",
    "\n",
    "print(my_float_number_rounded)"
   ]
  },
  {
   "cell_type": "code",
   "execution_count": 46,
   "metadata": {},
   "outputs": [
    {
     "name": "stdout",
     "output_type": "stream",
     "text": [
      "Hello, I will round the number you enter to 2 decimal places\n",
      "The number you gave me is:  7.656565212312\n",
      "The number you entered rounded to 2 decimal places is:  7.66\n"
     ]
    }
   ],
   "source": [
    "print(\"Hello, I will round the number you enter to 2 decimal places\")\n",
    "# Notice here i am using the float() function to convert the input to a float number\n",
    "# because the input() function always returns a string\n",
    "# and the round() function only works with numbers\n",
    "my_number = float(input(\"Enter a number: \"))\n",
    "# here I am passing print into the round() function\n",
    "print(\"The number you gave me is: \", my_number)\n",
    "print(\"The number you entered rounded to 2 decimal places is: \", round(my_number, 2))\n"
   ]
  }
 ],
 "metadata": {
  "kernelspec": {
   "display_name": "Python 3",
   "language": "python",
   "name": "python3"
  },
  "language_info": {
   "codemirror_mode": {
    "name": "ipython",
    "version": 3
   },
   "file_extension": ".py",
   "mimetype": "text/x-python",
   "name": "python",
   "nbconvert_exporter": "python",
   "pygments_lexer": "ipython3",
   "version": "3.11.5"
  },
  "orig_nbformat": 4
 },
 "nbformat": 4,
 "nbformat_minor": 2
}
