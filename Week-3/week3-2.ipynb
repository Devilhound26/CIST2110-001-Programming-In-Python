{
 "cells": [
  {
   "cell_type": "markdown",
   "metadata": {},
   "source": [
    "### Boolean Expressions"
   ]
  },
  {
   "cell_type": "code",
   "execution_count": 1,
   "metadata": {},
   "outputs": [
    {
     "name": "stdout",
     "output_type": "stream",
     "text": [
      "True\n",
      "False\n",
      "True\n",
      "False\n",
      "True\n",
      "False\n",
      "True\n",
      "False\n",
      "False\n",
      "True\n",
      "True\n",
      "True\n"
     ]
    }
   ],
   "source": [
    "## Boolean Expressions\n",
    "# Boolean expressions are statements that evaluate to True or False\n",
    "# As a reminder a boolean statement is a statement that is either true or false, 1 or 0, yes or no\n",
    "# You can use Conditional statements to evaluate boolean expressions\n",
    "\n",
    "# Boolean expressions are created using relational operators\n",
    "# Relational operators are operators that compare two values\n",
    "# The relational operators are:\n",
    "# == equal to\n",
    "# != not equal to\n",
    "# > greater than\n",
    "# < less than\n",
    "# >= greater than or equal to\n",
    "# <= less than or equal to\n",
    "\n",
    "# Main thing to remember when doing relational operators is that you should be comparing the same data types\n",
    "\n",
    "# Note my font ligatures setting will make these look different than yours if you have it turned off\n",
    "\n",
    "# Examples:\n",
    "print(5 == 5) # True int == int\n",
    "print(5 == 6) # False int == int\n",
    "# print(5 == '5') # False int == str\n",
    "print('5' == '5') # True char == char\n",
    "print('5' == '6') # False char == char\n",
    "\n",
    "print(\"Greg\" == \"Greg\") # True str == str\n",
    "\n",
    "print(5 != 5) # False int != int\n",
    "print(5 != 6) # True int != int\n",
    "\n",
    "print(5 > 5) # False int > int\n",
    "print(5 > 6) # False int > int\n",
    "print(6 > 5) # True int > int\n",
    "\n",
    "print(5 >= 5) # True int >= int\n",
    "print(5 <= 5) # True int <= int"
   ]
  },
  {
   "cell_type": "code",
   "execution_count": 2,
   "metadata": {},
   "outputs": [
    {
     "name": "stdout",
     "output_type": "stream",
     "text": [
      "False\n",
      "0.30000000000000004\n",
      "False\n",
      "True\n",
      "1e-05\n",
      "0.30000000000000004\n",
      "5.551115123125783e-17\n",
      "True\n",
      "This is the start of my float\n",
      "0.30000000000000004\n",
      "True\n",
      "True\n",
      "False\n",
      "greg\n",
      "False\n",
      "True\n",
      "GREG\n"
     ]
    }
   ],
   "source": [
    "## Boolean Expressions caveats\n",
    "# When comparing floats you should use a tolerance\n",
    "# This is because floats are stored as approximations\n",
    "# This means that sometimes when you compare two floats that should be equal they will not be equal\n",
    "\n",
    "# Example:\n",
    "print(0.1 + 0.1 + 0.1 == 0.3) # False\n",
    "print(0.1 + 0.1 + 0.1) # 0.30000000000000004\n",
    "print((0.1 + 0.1 + 0.1) == 0.3) # False # PEMDAS\n",
    "print(0.3 == 0.3) # True this is because 0.3 is stored as an approximation of 0.3\n",
    "\n",
    "# Example of using a tolerance\n",
    "tolerance = 0.00001\n",
    "print(tolerance)\n",
    "print(abs(0.1 + 0.1 + 0.1))\n",
    "print(abs((0.1 + 0.1 + 0.1) - 0.3))\n",
    "print(abs((0.1 + 0.1 + 0.1) - 0.3) < tolerance) # True\n",
    "\n",
    "# You can also use the round function to round the floats to a certain number of decimal places\n",
    "print(\"This is the start of my float\")\n",
    "my_float = 0.1 + 0.1 + 0.1\n",
    "print(my_float)\n",
    "print(round(my_float,1) == 0.3) # True\n",
    "\n",
    "# Another caveat is that you cannot compare strings and ints\n",
    "# print(5 == \"5\") # False\n",
    "\n",
    "# You can compare strings using the < and > operators\n",
    "print(\"Greg\" < \"greg\") # True\n",
    "print(\"Greg\" < \"Greg\") # False\n",
    "# This is because the capital letters come before the lowercase letters in the ASCII table\n",
    "# The best way to compare strings is to use the .lower() method\n",
    "\n",
    "my_name = \"GrEg\"\n",
    "print(my_name.lower())\n",
    "\n",
    "print(\"Greg\".lower() < \"greg\".lower()) # False\n",
    "print(\"GreG\".lower() == \"GrEg\".lower()) # True\n",
    "\n",
    "# This is the first method we have seen\n",
    "# A method is a function that is attached to an object\n",
    "# This means that you can only use the .lower() method on strings\n",
    "\n",
    "print(my_name.upper())\n",
    "\n"
   ]
  },
  {
   "cell_type": "markdown",
   "metadata": {},
   "source": [
    "### Conditional Expressions"
   ]
  },
  {
   "cell_type": "code",
   "execution_count": 3,
   "metadata": {},
   "outputs": [
    {
     "name": "stdout",
     "output_type": "stream",
     "text": [
      "True\n",
      "False\n",
      "True\n",
      "True\n",
      "False\n"
     ]
    }
   ],
   "source": [
    "## Conditional Expressions\n",
    "# Conditional expressions are expressions that evaluate to True or False\n",
    "# Conditional expressions are created using logical operators\n",
    "# The logical operators are:\n",
    "# and - True if both are True\n",
    "# or - True if either is True\n",
    "# not - True if False and False if True\n",
    "\n",
    "# Examples:\n",
    "# and statements\n",
    "print(5 == 5 and 6 == 6) # True\n",
    "print(5 == 5 and 6 == 7) # False | LEFT is True and RIGHT is False\n",
    "\n",
    "# or statements\n",
    "print(5 == 5 or 6 == 6) # True | LEFT is True and RIGHT is True\n",
    "print(5 == 5 or 6 == 7) # True | LEFT is True and RIGHT is False\n",
    "\n",
    "# not statements\n",
    "print(not 5 == 5) # False\n",
    "# there are specfic situations where you would use not statements\n",
    "\n"
   ]
  },
  {
   "cell_type": "markdown",
   "metadata": {},
   "source": [
    "### if, elif, else Statements"
   ]
  },
  {
   "cell_type": "code",
   "execution_count": 4,
   "metadata": {},
   "outputs": [
    {
     "name": "stdout",
     "output_type": "stream",
     "text": [
      "True\n",
      "5 is equal to 5\n",
      "False\n",
      "5 is not equal to 6\n",
      "5 is equal to 5\n"
     ]
    }
   ],
   "source": [
    "## if, elif, else statements\n",
    "\n",
    "# if statements are used to execute code if a condition is True\n",
    "# if statements are created using the if keyword\n",
    "# if statements have the following syntax:\n",
    "# if condition:\n",
    "#   code to execute if condition is True\n",
    "\n",
    "# {} code block in java\n",
    "# : code block in python\n",
    "# python relies on indentation to determine code blocks \n",
    "\n",
    "# Example:\n",
    "print(5 == 5)\n",
    "if 5 == 5:\n",
    "    print(\"5 is equal to 5\")\n",
    "\n",
    "print(5 == 6) \n",
    "if 5 == 6:\n",
    "    print(\"5 is equal to 6\")\n",
    "if 5 != 6:\n",
    "    print(\"5 is not equal to 6\")\n",
    "    \n",
    "# the above block can be rewritted using elif statements\n",
    "# elif statements are used to check multiple conditions\n",
    "# elif statements are created using the elif keyword\n",
    "# elif statements have the following syntax:\n",
    "# if condition:\n",
    "#   code to execute if condition is True\n",
    "# elif condition:\n",
    "#   code to execute if condition is True\n",
    "# elif condition:\n",
    "#   code to execute if condition is True\n",
    "# else:\n",
    "#   code to execute if all conditions are False\n",
    "\n",
    "# Example:\n",
    "if 5 == 5: # True\n",
    "    print(\"5 is equal to 5\") # Enter this block\n",
    "elif 5 == 6:                                                #\n",
    "    print(\"5 is equal to 6\")                                #\n",
    "elif 5 != 6:                                                # Waterfalls down/through\n",
    "    print(\"5 is not equal to 6\")                            #\n",
    "else:                                                       #\n",
    "    print(\"5 is not equal to 5 and 5 is not equal to 6\")    #\n"
   ]
  },
  {
   "cell_type": "code",
   "execution_count": 5,
   "metadata": {},
   "outputs": [
    {
     "name": "stdout",
     "output_type": "stream",
     "text": [
      "5 is not equal to 6\n"
     ]
    }
   ],
   "source": [
    "# Example:\n",
    "if 5 == 6: # False\n",
    "    print(\"5 is equal to 6\") # Skip this block\n",
    "elif 5 == 7: # False                                   \n",
    "    print(\"5 is equal to 7\") # Skip this block                         \n",
    "elif 5 != 6: # True                                         \n",
    "    print(\"5 is not equal to 6\") # Run this block                           \n",
    "else:                                                       # Waterfalls down/through\n",
    "    print(\"5 is not equal to 5 and 5 is not equal to 6\")    #"
   ]
  },
  {
   "cell_type": "code",
   "execution_count": 6,
   "metadata": {},
   "outputs": [
    {
     "name": "stdout",
     "output_type": "stream",
     "text": [
      "My name is Greg\n",
      "You're not Greg\n"
     ]
    }
   ],
   "source": [
    "my_name = \"Greg\"\n",
    "\n",
    "my_name_lower = my_name.lower()\n",
    "\n",
    "if my_name_lower == \"greg\":\n",
    "    print(\"My name is Greg\")\n",
    "    \n",
    "if my_name_lower == \"bob\": # False\n",
    "    print(\"My name is Greg\")  # Skip this block\n",
    "else: # True\n",
    "    print(\"You're not Greg\") # Run this block\n",
    "    \n"
   ]
  }
 ],
 "metadata": {
  "kernelspec": {
   "display_name": "Python 3",
   "language": "python",
   "name": "python3"
  },
  "language_info": {
   "codemirror_mode": {
    "name": "ipython",
    "version": 3
   },
   "file_extension": ".py",
   "mimetype": "text/x-python",
   "name": "python",
   "nbconvert_exporter": "python",
   "pygments_lexer": "ipython3",
   "version": "3.11.5"
  },
  "orig_nbformat": 4
 },
 "nbformat": 4,
 "nbformat_minor": 2
}
