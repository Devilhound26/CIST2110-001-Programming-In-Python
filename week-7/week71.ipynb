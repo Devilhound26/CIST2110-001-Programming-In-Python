{
 "cells": [
  {
   "cell_type": "markdown",
   "metadata": {},
   "source": [
    "# Python Lists and Tuples"
   ]
  },
  {
   "cell_type": "markdown",
   "metadata": {},
   "source": [
    "## Intro\n",
    "- Both lists and tuples are used to store collections of items in pythong\n",
    "- The primary difference between the two is that lists are mutable while tuples are immutable\n",
    "\n",
    "imutable = cannot be changed"
   ]
  },
  {
   "cell_type": "markdown",
   "metadata": {},
   "source": [
    "## Lists\n",
    "\n",
    "- Lists are ordered collection of items, which can be of any type\n",
    "- Lists are mutable, meaning that we can change an item in the list or reassign an item in the list\n",
    "- Lists are created using square brackets"
   ]
  },
  {
   "cell_type": "code",
   "execution_count": 94,
   "metadata": {},
   "outputs": [],
   "source": [
    "my_list_numbers = [1, 2, 3, 4, 5]\n",
    "# 1 2 3 4 5\n",
    "# 0 1 2 3 4 - index\n",
    "# -5 -4 -3 -2 -1 - reverse index\n",
    "# total length = 5\n",
    "# List with strings\n",
    "my_list = [\"Diana\", \"Eve\", \"Charlie\", \"Alice\", \"Bob\"]\n",
    "mixed_list = [1, 2, \"Alice\", \"Bob\", 3.14, True, [1,2,3]]"
   ]
  },
  {
   "cell_type": "markdown",
   "metadata": {},
   "source": []
  },
  {
   "cell_type": "code",
   "execution_count": 31,
   "metadata": {},
   "outputs": [
    {
     "name": "stdout",
     "output_type": "stream",
     "text": [
      "1\n",
      "2\n",
      "5\n",
      "4\n",
      "5\n",
      "[1, 2, 3]\n"
     ]
    }
   ],
   "source": [
    "## Accessing elements\n",
    "print(my_list_numbers[0]) # 1\n",
    "print(my_list_numbers[1]) # 2\n",
    "print(my_list_numbers[-1]) # 5\n",
    "print(my_list_numbers[-2]) # 4\n",
    "print(my_list_numbers[4]) # IndexError: list index out of range\n",
    "print(my_list_numbers[0:3]) # up to but not including 3"
   ]
  },
  {
   "cell_type": "code",
   "execution_count": 20,
   "metadata": {},
   "outputs": [
    {
     "data": {
      "text/plain": [
       "[10, 2, 3, 4, 5]"
      ]
     },
     "execution_count": 20,
     "metadata": {},
     "output_type": "execute_result"
    }
   ],
   "source": [
    "# Modifying elements\n",
    "my_list_numbers[0] = 10\n",
    "my_list_numbers\n"
   ]
  },
  {
   "cell_type": "code",
   "execution_count": 79,
   "metadata": {},
   "outputs": [
    {
     "ename": "IndexError",
     "evalue": "list assignment index out of range",
     "output_type": "error",
     "traceback": [
      "\u001b[0;31m---------------------------------------------------------------------------\u001b[0m",
      "\u001b[0;31mIndexError\u001b[0m                                Traceback (most recent call last)",
      "\u001b[1;32m/Users/gregwalsh/git/CIST2110-001-Programming-In-Python/week7/week71.ipynb Cell 7\u001b[0m line \u001b[0;36m2\n\u001b[1;32m      <a href='vscode-notebook-cell:/Users/gregwalsh/git/CIST2110-001-Programming-In-Python/week7/week71.ipynb#X12sZmlsZQ%3D%3D?line=0'>1</a>\u001b[0m \u001b[39m# Deleting elements\u001b[39;00m\n\u001b[0;32m----> <a href='vscode-notebook-cell:/Users/gregwalsh/git/CIST2110-001-Programming-In-Python/week7/week71.ipynb#X12sZmlsZQ%3D%3D?line=1'>2</a>\u001b[0m \u001b[39mdel\u001b[39;00m my_list_numbers[\u001b[39m3\u001b[39;49m]\n\u001b[1;32m      <a href='vscode-notebook-cell:/Users/gregwalsh/git/CIST2110-001-Programming-In-Python/week7/week71.ipynb#X12sZmlsZQ%3D%3D?line=2'>3</a>\u001b[0m my_list_numbers\n",
      "\u001b[0;31mIndexError\u001b[0m: list assignment index out of range"
     ]
    }
   ],
   "source": [
    "# Deleting elements\n",
    "del my_list_numbers[3]\n",
    "my_list_numbers\n"
   ]
  },
  {
   "cell_type": "code",
   "execution_count": 115,
   "metadata": {},
   "outputs": [],
   "source": [
    "# Adding elements (append)\n",
    "my_list_numbers.append(6)"
   ]
  },
  {
   "cell_type": "code",
   "execution_count": 69,
   "metadata": {},
   "outputs": [],
   "source": [
    "# Notice append adds the element to the end of the list and del deletes the element at the specified index\n",
    "# To add an element at a specific index, use insert\n",
    "my_list_numbers.insert(4, 3) # index first, then element"
   ]
  },
  {
   "cell_type": "code",
   "execution_count": 71,
   "metadata": {},
   "outputs": [
    {
     "data": {
      "text/plain": [
       "[1, 2, 3, 3, 4, 5, 6]"
      ]
     },
     "execution_count": 71,
     "metadata": {},
     "output_type": "execute_result"
    }
   ],
   "source": [
    "# Sorting elements\n",
    "my_list_numbers.sort()\n",
    "my_list_numbers"
   ]
  },
  {
   "cell_type": "code",
   "execution_count": 81,
   "metadata": {},
   "outputs": [
    {
     "ename": "TypeError",
     "evalue": "'<' not supported between instances of 'str' and 'int'",
     "output_type": "error",
     "traceback": [
      "\u001b[0;31m---------------------------------------------------------------------------\u001b[0m",
      "\u001b[0;31mTypeError\u001b[0m                                 Traceback (most recent call last)",
      "\u001b[1;32m/Users/gregwalsh/git/CIST2110-001-Programming-In-Python/week7/week71.ipynb Cell 11\u001b[0m line \u001b[0;36m1\n\u001b[0;32m----> <a href='vscode-notebook-cell:/Users/gregwalsh/git/CIST2110-001-Programming-In-Python/week7/week71.ipynb#X16sZmlsZQ%3D%3D?line=0'>1</a>\u001b[0m mixed_list\u001b[39m.\u001b[39;49msort()\n\u001b[1;32m      <a href='vscode-notebook-cell:/Users/gregwalsh/git/CIST2110-001-Programming-In-Python/week7/week71.ipynb#X16sZmlsZQ%3D%3D?line=1'>2</a>\u001b[0m mixed_list\n\u001b[1;32m      <a href='vscode-notebook-cell:/Users/gregwalsh/git/CIST2110-001-Programming-In-Python/week7/week71.ipynb#X16sZmlsZQ%3D%3D?line=3'>4</a>\u001b[0m \u001b[39m# Q: what sorting method does pythons .sort method use?\u001b[39;00m\n\u001b[1;32m      <a href='vscode-notebook-cell:/Users/gregwalsh/git/CIST2110-001-Programming-In-Python/week7/week71.ipynb#X16sZmlsZQ%3D%3D?line=4'>5</a>\u001b[0m \u001b[39m# A: Timsort (https://en.wikipedia.org/wiki/Timsort)\u001b[39;00m\n",
      "\u001b[0;31mTypeError\u001b[0m: '<' not supported between instances of 'str' and 'int'"
     ]
    }
   ],
   "source": [
    "mixed_list.sort() # this will get a TypeError because the list contains different types\n",
    "mixed_list\n",
    "\n",
    "# Q: what sorting method does pythons .sort method use?\n",
    "# A: Timsort (https://en.wikipedia.org/wiki/Timsort)"
   ]
  },
  {
   "cell_type": "code",
   "execution_count": 99,
   "metadata": {},
   "outputs": [
    {
     "data": {
      "text/plain": [
       "[]"
      ]
     },
     "execution_count": 99,
     "metadata": {},
     "output_type": "execute_result"
    }
   ],
   "source": [
    "# Clearing elements\n",
    "my_list_numbers.clear()\n",
    "my_list_numbers"
   ]
  },
  {
   "cell_type": "code",
   "execution_count": 95,
   "metadata": {},
   "outputs": [],
   "source": [
    "# Reversing elements\n",
    "my_list_numbers.reverse()"
   ]
  },
  {
   "cell_type": "code",
   "execution_count": 98,
   "metadata": {},
   "outputs": [],
   "source": [
    "# Copying elements\n",
    "test = my_list_numbers.copy()\n",
    "\n",
    "hi = my_list_numbers # this is not a copy, it is a reference to the same list"
   ]
  },
  {
   "cell_type": "code",
   "execution_count": 116,
   "metadata": {},
   "outputs": [
    {
     "data": {
      "text/plain": [
       "14"
      ]
     },
     "execution_count": 116,
     "metadata": {},
     "output_type": "execute_result"
    }
   ],
   "source": [
    "# Count of elements\n",
    "my_list.count(\"Alice\")\n",
    "my_list_numbers.count(6)"
   ]
  },
  {
   "cell_type": "code",
   "execution_count": null,
   "metadata": {},
   "outputs": [],
   "source": [
    "# Length of list\n",
    "len(my_list_numbers)"
   ]
  },
  {
   "cell_type": "code",
   "execution_count": null,
   "metadata": {},
   "outputs": [],
   "source": [
    "# iterating over a list"
   ]
  }
 ],
 "metadata": {
  "kernelspec": {
   "display_name": "venv",
   "language": "python",
   "name": "python3"
  },
  "language_info": {
   "codemirror_mode": {
    "name": "ipython",
    "version": 3
   },
   "file_extension": ".py",
   "mimetype": "text/x-python",
   "name": "python",
   "nbconvert_exporter": "python",
   "pygments_lexer": "ipython3",
   "version": "3.11.6"
  }
 },
 "nbformat": 4,
 "nbformat_minor": 2
}
