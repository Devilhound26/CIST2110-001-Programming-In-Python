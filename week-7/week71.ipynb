{
 "cells": [
  {
   "cell_type": "markdown",
   "metadata": {},
   "source": [
    "# Python Lists and Tuples"
   ]
  },
  {
   "cell_type": "markdown",
   "metadata": {},
   "source": [
    "## Intro\n",
    "- Both lists and tuples are used to store collections of items in pythong\n",
    "- The primary difference between the two is that lists are mutable while tuples are immutable\n",
    "\n",
    "imutable = cannot be changed"
   ]
  },
  {
   "cell_type": "markdown",
   "metadata": {},
   "source": [
    "## Lists\n",
    "\n",
    "- Lists are ordered collection of items, which can be of any type\n",
    "- Lists are mutable, meaning that we can change an item in the list or reassign an item in the list\n",
    "- Lists are created using square brackets"
   ]
  },
  {
   "cell_type": "code",
   "execution_count": null,
   "metadata": {},
   "outputs": [],
   "source": [
    "my_list_numbers = [1, 2, 3, 4, 5]\n",
    "# 1 2 3 4 5\n",
    "# 0 1 2 3 4 - index\n",
    "# -5 -4 -3 -2 -1 - reverse index\n",
    "# total length = 5\n",
    "# List with strings\n",
    "my_list = [\"Diana\", \"Eve\", \"Charlie\", \"Alice\", \"Bob\"]\n",
    "mixed_list = [1, 2, \"Alice\", \"Bob\", 3.14, True, [1,2,3]]"
   ]
  },
  {
   "cell_type": "markdown",
   "metadata": {},
   "source": []
  },
  {
   "cell_type": "code",
   "execution_count": null,
   "metadata": {},
   "outputs": [],
   "source": [
    "## Accessing elements\n",
    "print(my_list_numbers[0]) # 1\n",
    "print(my_list_numbers[1]) # 2\n",
    "print(my_list_numbers[-1]) # 5\n",
    "print(my_list_numbers[-2]) # 4\n",
    "print(my_list_numbers[4]) # IndexError: list index out of range\n",
    "print(my_list_numbers[0:3]) # up to but not including 3"
   ]
  },
  {
   "cell_type": "code",
   "execution_count": null,
   "metadata": {},
   "outputs": [],
   "source": [
    "# Modifying elements\n",
    "my_list_numbers[0] = 10\n",
    "my_list_numbers\n"
   ]
  },
  {
   "cell_type": "code",
   "execution_count": null,
   "metadata": {},
   "outputs": [],
   "source": [
    "# Deleting elements\n",
    "del my_list_numbers[3]\n",
    "my_list_numbers\n"
   ]
  },
  {
   "cell_type": "code",
   "execution_count": null,
   "metadata": {},
   "outputs": [],
   "source": [
    "# Adding elements (append)\n",
    "my_list_numbers.append(6)"
   ]
  },
  {
   "cell_type": "code",
   "execution_count": null,
   "metadata": {},
   "outputs": [],
   "source": [
    "# Notice append adds the element to the end of the list and del deletes the element at the specified index\n",
    "# To add an element at a specific index, use insert\n",
    "my_list_numbers.insert(4, 3) # index first, then element"
   ]
  },
  {
   "cell_type": "code",
   "execution_count": null,
   "metadata": {},
   "outputs": [],
   "source": [
    "# Sorting elements\n",
    "my_list_numbers.sort()\n",
    "my_list_numbers"
   ]
  },
  {
   "cell_type": "code",
   "execution_count": null,
   "metadata": {},
   "outputs": [],
   "source": [
    "mixed_list.sort() # this will get a TypeError because the list contains different types\n",
    "mixed_list\n",
    "\n",
    "# Q: what sorting method does pythons .sort method use?\n",
    "# A: Timsort (https://en.wikipedia.org/wiki/Timsort)"
   ]
  },
  {
   "cell_type": "code",
   "execution_count": null,
   "metadata": {},
   "outputs": [],
   "source": [
    "# Clearing elements\n",
    "my_list_numbers.clear()\n",
    "my_list_numbers"
   ]
  },
  {
   "cell_type": "code",
   "execution_count": null,
   "metadata": {},
   "outputs": [],
   "source": [
    "# Reversing elements\n",
    "my_list_numbers.reverse()"
   ]
  },
  {
   "cell_type": "code",
   "execution_count": null,
   "metadata": {},
   "outputs": [],
   "source": [
    "# Copying elements\n",
    "test = my_list_numbers.copy()\n",
    "\n",
    "hi = my_list_numbers # this is not a copy, it is a reference to the same list"
   ]
  },
  {
   "cell_type": "code",
   "execution_count": null,
   "metadata": {},
   "outputs": [],
   "source": [
    "# Count of elements\n",
    "my_list.count(\"Alice\")\n",
    "my_list_numbers.count(6)"
   ]
  },
  {
   "cell_type": "code",
   "execution_count": null,
   "metadata": {},
   "outputs": [],
   "source": [
    "# Length of list\n",
    "len(my_list_numbers)"
   ]
  },
  {
   "cell_type": "code",
   "execution_count": null,
   "metadata": {},
   "outputs": [],
   "source": [
    "# iterating over a list\n",
    "for i in my_list_numbers:\n",
    "    print(i)\n",
    "    \n",
    "# iterating over a list with enumerate\n",
    "for i, j in enumerate(my_list_numbers):\n",
    "    print(i, j)\n",
    "    \n",
    "# enumerate returns a tuple of the index and the element at that index"
   ]
  },
  {
   "cell_type": "code",
   "execution_count": null,
   "metadata": {},
   "outputs": [],
   "source": [
    "# List comprehension\n",
    "# [expression for item in list]\n",
    "# [expression for item in list if conditional]\n",
    "# [expression if conditional else expression for item in list]\n",
    "\n",
    "# Example 1\n",
    "# Create a list of squares from 1 to 10\n",
    "squares = []\n",
    "for i in range(1, 11):\n",
    "    squares.append(i**2)\n",
    "# squares\n",
    "\n",
    "squares_new = [i**2 for i in range(1, 11)]\n",
    "\n",
    "squares_new\n",
    "\n",
    "# Example 2\n",
    "# Create a list of even numbers from 1 to 10\n",
    "even_numbers = []\n",
    "for i in range(1, 11):\n",
    "    if i % 2 == 0:\n",
    "        even_numbers.append(i)\n",
    "# even_numbers\n",
    "\n",
    "even_numbers_new = [i for i in range(1, 11) if i % 2 == 0]\n",
    "\n",
    "\n",
    "# Example 3 - showing expression if conditional else expression\n",
    "# [expression if conditional else expression for item in list]\n",
    "\n",
    "# Create a list of even numbers from 1 to 10 and if the number is even, square it\n",
    "even_numbers_squared = []\n",
    "for i in range(1, 11):\n",
    "    if i % 2 == 0:\n",
    "        even_numbers_squared.append(i**2)\n",
    "    else:\n",
    "        even_numbers_squared.append(i)\n",
    "# even_numbers_squared\n",
    "\n",
    "even_numbers_squared_new = [i**2 if i % 2 == 0 else i for i in range(1, 11)]"
   ]
  },
  {
   "cell_type": "code",
   "execution_count": 33,
   "metadata": {},
   "outputs": [
    {
     "data": {
      "text/plain": [
       "[1, 2, 3, 7]"
      ]
     },
     "execution_count": 33,
     "metadata": {},
     "output_type": "execute_result"
    }
   ],
   "source": [
    "# Python 2D Lists and indexing 2D lists\n",
    "\n",
    "# 2D lists are lists of lists\n",
    "# 2D lists are indexed by [row][column]\n",
    "# 2D lists are mutable\n",
    "# 2D lists can be sorted, reversed, etc.\n",
    "\n",
    "# Example 1\n",
    "# Create a 2D list of 3 rows and 3 columns\n",
    "# 1 2 3  - row 0\n",
    "# 4 5 6  - row 1\n",
    "# 7 8 9  - row 2\n",
    "# 0 1 2  - column index\n",
    "my_2d_list = [\n",
    "    [1,2,3], \n",
    "    [4,5,6], \n",
    "    [7,8,9]\n",
    "]\n",
    "\n",
    "# Accessing elements\n",
    "# Accessing the first element in the first row\n",
    "# my_2d_list[0][0]\n",
    "# my_2d_list[2][2]\n",
    "\n",
    "my_2d_list[1] # returns the second row\n",
    "\n",
    "my_2d_list[0][0:2] # returns the first two elements in the first row\n",
    "# Q: why can i put my_2d_list[0][0:100] and not get an error?\n",
    "# A: because python will return the elements up to the last element in the list \n"
   ]
  },
  {
   "cell_type": "markdown",
   "metadata": {},
   "source": [
    "## Tuples\n",
    "\n",
    "- Tuples are ordered collection of items, which can be of any type\n",
    "- Tuples are immutable, meaning that we cannot change an item in the tuple or reassign an item in the tuple\n",
    "- Tuples are created using parentheses\n",
    "- Tuples are faster than lists\n",
    "- Tuples are safer than lists\n",
    "- Tuples are used when we know that the data will not change\n",
    "- Tuples are used when we want to make sure that the data cannot be changed"
   ]
  },
  {
   "cell_type": "code",
   "execution_count": 10,
   "metadata": {},
   "outputs": [
    {
     "name": "stdout",
     "output_type": "stream",
     "text": [
      "1\n",
      "2\n",
      "3\n",
      "1\n",
      "1\n",
      "1\n",
      "0 1\n",
      "1 2\n",
      "2 3\n",
      "3 1\n",
      "4 1\n",
      "5 1\n"
     ]
    }
   ],
   "source": [
    "# Tuples Examples:\n",
    "\n",
    "# Tuples are immutable\n",
    "# Tuples are indexed by [index]\n",
    "# Tuples can be sorted, reversed, etc.\n",
    "\n",
    "# Example 1\n",
    "# Create a tuple of 3 elements\n",
    "my_tuple = (1,2,3,1,1,1,)\n",
    "\n",
    "# my_tuple[0] # returns the first element\n",
    "# my_tuple[-1] # returns the last element\n",
    "# my_tuple.count(1) # returns the count of the element 1\n",
    "\n",
    "# Example 2\n",
    "# For loop over a tuple\n",
    "for i in my_tuple:\n",
    "    print(i)\n",
    "    \n",
    "# Example 3\n",
    "# for each loop over a tuple with enumerate\n",
    "for i, j in enumerate(my_tuple):\n",
    "    print(i, j)\n",
    "\n",
    "# Example 4\n",
    "# tuple comprehension\n",
    "# (expression for item in tuple)\n",
    "# (expression for item in tuple if conditional)\n",
    "# (expression if conditional else expression for item in tuple)\n",
    "\n",
    "# Create a tuple of squares from 1 to 10\n",
    "squares = ()\n",
    "for i in range(1, 11):\n",
    "    squares = squares + (i**2,)\n",
    "# squares\n",
    "\n",
    "squares_new = (i**2 for i in range(1, 11))\n",
    "\n",
    "\n",
    "    \n"
   ]
  }
 ],
 "metadata": {
  "kernelspec": {
   "display_name": "venv",
   "language": "python",
   "name": "python3"
  },
  "language_info": {
   "codemirror_mode": {
    "name": "ipython",
    "version": 3
   },
   "file_extension": ".py",
   "mimetype": "text/x-python",
   "name": "python",
   "nbconvert_exporter": "python",
   "pygments_lexer": "ipython3",
   "version": "3.11.6"
  }
 },
 "nbformat": 4,
 "nbformat_minor": 2
}
